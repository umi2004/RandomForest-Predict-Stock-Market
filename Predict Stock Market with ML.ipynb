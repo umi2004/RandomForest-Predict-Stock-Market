{
 "cells": [
  {
   "cell_type": "markdown",
   "id": "127c56a7",
   "metadata": {},
   "source": [
    "# Predict The Stock Market With ML\n",
    "\n",
    "We'll going to use S&P 500 and predict tomorrow's index price using 20 years of historical data. We will also backtesting if this is accurate prediction. After that we'll improve the model by adding predictors."
   ]
  },
  {
   "cell_type": "code",
   "execution_count": 1,
   "id": "43e5a300",
   "metadata": {
    "collapsed": true
   },
   "outputs": [
    {
     "name": "stdout",
     "output_type": "stream",
     "text": [
      "Requirement already satisfied: yfinance in /opt/conda/lib/python3.11/site-packages (0.2.51)\n",
      "Requirement already satisfied: pandas>=1.3.0 in /opt/conda/lib/python3.11/site-packages (from yfinance) (2.1.3)\n",
      "Requirement already satisfied: numpy>=1.16.5 in /opt/conda/lib/python3.11/site-packages (from yfinance) (1.24.4)\n",
      "Requirement already satisfied: requests>=2.31 in /opt/conda/lib/python3.11/site-packages (from yfinance) (2.31.0)\n",
      "Requirement already satisfied: multitasking>=0.0.7 in /opt/conda/lib/python3.11/site-packages (from yfinance) (0.0.11)\n",
      "Requirement already satisfied: lxml>=4.9.1 in /opt/conda/lib/python3.11/site-packages (from yfinance) (5.2.2)\n",
      "Requirement already satisfied: platformdirs>=2.0.0 in /opt/conda/lib/python3.11/site-packages (from yfinance) (4.1.0)\n",
      "Requirement already satisfied: pytz>=2022.5 in /opt/conda/lib/python3.11/site-packages (from yfinance) (2023.3.post1)\n",
      "Requirement already satisfied: frozendict>=2.3.4 in /opt/conda/lib/python3.11/site-packages (from yfinance) (2.4.6)\n",
      "Requirement already satisfied: peewee>=3.16.2 in /opt/conda/lib/python3.11/site-packages (from yfinance) (3.17.8)\n",
      "Requirement already satisfied: beautifulsoup4>=4.11.1 in /opt/conda/lib/python3.11/site-packages (from yfinance) (4.12.2)\n",
      "Requirement already satisfied: html5lib>=1.1 in /opt/conda/lib/python3.11/site-packages (from yfinance) (1.1)\n",
      "Requirement already satisfied: soupsieve>1.2 in /opt/conda/lib/python3.11/site-packages (from beautifulsoup4>=4.11.1->yfinance) (2.5)\n",
      "Requirement already satisfied: six>=1.9 in /opt/conda/lib/python3.11/site-packages (from html5lib>=1.1->yfinance) (1.16.0)\n",
      "Requirement already satisfied: webencodings in /opt/conda/lib/python3.11/site-packages (from html5lib>=1.1->yfinance) (0.5.1)\n",
      "Requirement already satisfied: python-dateutil>=2.8.2 in /opt/conda/lib/python3.11/site-packages (from pandas>=1.3.0->yfinance) (2.8.2)\n",
      "Requirement already satisfied: tzdata>=2022.1 in /opt/conda/lib/python3.11/site-packages (from pandas>=1.3.0->yfinance) (2023.3)\n",
      "Requirement already satisfied: charset-normalizer<4,>=2 in /opt/conda/lib/python3.11/site-packages (from requests>=2.31->yfinance) (3.3.2)\n",
      "Requirement already satisfied: idna<4,>=2.5 in /opt/conda/lib/python3.11/site-packages (from requests>=2.31->yfinance) (3.6)\n",
      "Requirement already satisfied: urllib3<3,>=1.21.1 in /opt/conda/lib/python3.11/site-packages (from requests>=2.31->yfinance) (2.1.0)\n",
      "Requirement already satisfied: certifi>=2017.4.17 in /opt/conda/lib/python3.11/site-packages (from requests>=2.31->yfinance) (2023.11.17)\n",
      "Note: you may need to restart the kernel to use updated packages.\n"
     ]
    }
   ],
   "source": [
    "pip install yfinance"
   ]
  },
  {
   "cell_type": "code",
   "execution_count": 2,
   "id": "d6e680df",
   "metadata": {},
   "outputs": [],
   "source": [
    "# Import\n",
    "import yfinance as yf\n",
    "import pandas as pd"
   ]
  },
  {
   "cell_type": "code",
   "execution_count": 3,
   "id": "fa0c8415",
   "metadata": {},
   "outputs": [],
   "source": [
    "sp500 = yf.Ticker(\"^GSPC\") # Download the Price History from Ticker class\n",
    "sp500 = sp500.history(period = \"max\")"
   ]
  },
  {
   "cell_type": "code",
   "execution_count": 4,
   "id": "049d48ce",
   "metadata": {},
   "outputs": [],
   "source": [
    "#sp500.index"
   ]
  },
  {
   "cell_type": "code",
   "execution_count": 5,
   "id": "58ba3578",
   "metadata": {},
   "outputs": [
    {
     "data": {
      "text/plain": [
       "<Axes: xlabel='Date'>"
      ]
     },
     "execution_count": 5,
     "metadata": {},
     "output_type": "execute_result"
    },
    {
     "data": {
      "image/png": "[encoded data removed]",
      "text/plain": [
       "<Figure size 640x480 with 1 Axes>"
      ]
     },
     "metadata": {},
     "output_type": "display_data"
    }
   ],
   "source": [
    "sp500.plot.line(y=\"Close\", use_index = True)"
   ]
  },
  {
   "cell_type": "code",
   "execution_count": 6,
   "id": "eb69583a",
   "metadata": {},
   "outputs": [],
   "source": [
    "#We are not going to use Dividends and Stock in this practice\n",
    "del sp500[\"Dividends\"]\n",
    "del sp500[\"Stock Splits\"]"
   ]
  },
  {
   "cell_type": "code",
   "execution_count": 7,
   "id": "6ea7f96e",
   "metadata": {},
   "outputs": [],
   "source": [
    "#Shifting  -1 for every close of that day\n",
    "sp500[\"Tomorrow\"] = sp500[\"Close\"].shift(-1) "
   ]
  },
  {
   "cell_type": "code",
   "execution_count": 8,
   "id": "93798b75",
   "metadata": {},
   "outputs": [],
   "source": [
    "# If 1 then it going up and 0 or down\n",
    "sp500[\"Target\"] = (sp500[\"Tomorrow\"] > sp500[\"Close\"]).astype(int)"
   ]
  },
  {
   "cell_type": "code",
   "execution_count": 9,
   "id": "e60f55dd",
   "metadata": {},
   "outputs": [],
   "source": [
    "#sp500"
   ]
  },
  {
   "cell_type": "code",
   "execution_count": 10,
   "id": "5cb45745",
   "metadata": {},
   "outputs": [],
   "source": [
    "sp500 = sp500.loc[\"1990-01-01\":].copy()"
   ]
  },
  {
   "cell_type": "markdown",
   "id": "b273eaa6",
   "metadata": {},
   "source": [
    "### Training an Initial Machine Learning Model"
   ]
  },
  {
   "cell_type": "code",
   "execution_count": 11,
   "id": "d9b3b2eb",
   "metadata": {},
   "outputs": [],
   "source": [
    "# Simple ML Model. It help as a initial model since it's hard to be overfit than other models\n",
    "from sklearn.ensemble import RandomForestClassifier"
   ]
  },
  {
   "cell_type": "code",
   "execution_count": 12,
   "id": "5b830f4d",
   "metadata": {},
   "outputs": [
    {
     "data": {
      "text/html": [
       "<style>#sk-container-id-1 {color: black;}#sk-container-id-1 pre{padding: 0;}#sk-container-id-1 div.sk-toggleable {background-color: white;}#sk-container-id-1 label.sk-toggleable__label {cursor: pointer;display: block;width: 100%;margin-bottom: 0;padding: 0.3em;box-sizing: border-box;text-align: center;}#sk-container-id-1 label.sk-toggleable__label-arrow:before {content: \"▸\";float: left;margin-right: 0.25em;color: #696969;}#sk-container-id-1 label.sk-toggleable__label-arrow:hover:before {color: black;}#sk-container-id-1 div.sk-estimator:hover label.sk-toggleable__label-arrow:before {color: black;}#sk-container-id-1 div.sk-toggleable__content {max-height: 0;max-width: 0;overflow: hidden;text-align: left;background-color: #f0f8ff;}#sk-container-id-1 div.sk-toggleable__content pre {margin: 0.2em;color: black;border-radius: 0.25em;background-color: #f0f8ff;}#sk-container-id-1 input.sk-toggleable__control:checked~div.sk-toggleable__content {max-height: 200px;max-width: 100%;overflow: auto;}#sk-container-id-1 input.sk-toggleable__control:checked~label.sk-toggleable__label-arrow:before {content: \"▾\";}#sk-container-id-1 div.sk-estimator input.sk-toggleable__control:checked~label.sk-toggleable__label {background-color: #d4ebff;}#sk-container-id-1 div.sk-label input.sk-toggleable__control:checked~label.sk-toggleable__label {background-color: #d4ebff;}#sk-container-id-1 input.sk-hidden--visually {border: 0;clip: rect(1px 1px 1px 1px);clip: rect(1px, 1px, 1px, 1px);height: 1px;margin: -1px;overflow: hidden;padding: 0;position: absolute;width: 1px;}#sk-container-id-1 div.sk-estimator {font-family: monospace;background-color: #f0f8ff;border: 1px dotted black;border-radius: 0.25em;box-sizing: border-box;margin-bottom: 0.5em;}#sk-container-id-1 div.sk-estimator:hover {background-color: #d4ebff;}#sk-container-id-1 div.sk-parallel-item::after {content: \"\";width: 100%;border-bottom: 1px solid gray;flex-grow: 1;}#sk-container-id-1 div.sk-label:hover label.sk-toggleable__label {background-color: #d4ebff;}#sk-container-id-1 div.sk-serial::before {content: \"\";position: absolute;border-left: 1px solid gray;box-sizing: border-box;top: 0;bottom: 0;left: 50%;z-index: 0;}#sk-container-id-1 div.sk-serial {display: flex;flex-direction: column;align-items: center;background-color: white;padding-right: 0.2em;padding-left: 0.2em;position: relative;}#sk-container-id-1 div.sk-item {position: relative;z-index: 1;}#sk-container-id-1 div.sk-parallel {display: flex;align-items: stretch;justify-content: center;background-color: white;position: relative;}#sk-container-id-1 div.sk-item::before, #sk-container-id-1 div.sk-parallel-item::before {content: \"\";position: absolute;border-left: 1px solid gray;box-sizing: border-box;top: 0;bottom: 0;left: 50%;z-index: -1;}#sk-container-id-1 div.sk-parallel-item {display: flex;flex-direction: column;z-index: 1;position: relative;background-color: white;}#sk-container-id-1 div.sk-parallel-item:first-child::after {align-self: flex-end;width: 50%;}#sk-container-id-1 div.sk-parallel-item:last-child::after {align-self: flex-start;width: 50%;}#sk-container-id-1 div.sk-parallel-item:only-child::after {width: 0;}#sk-container-id-1 div.sk-dashed-wrapped {border: 1px dashed gray;margin: 0 0.4em 0.5em 0.4em;box-sizing: border-box;padding-bottom: 0.4em;background-color: white;}#sk-container-id-1 div.sk-label label {font-family: monospace;font-weight: bold;display: inline-block;line-height: 1.2em;}#sk-container-id-1 div.sk-label-container {text-align: center;}#sk-container-id-1 div.sk-container {/* jupyter's `normalize.less` sets `[hidden] { display: none; }` but bootstrap.min.css set `[hidden] { display: none !important; }` so we also need the `!important` here to be able to override the default hidden behavior on the sphinx rendered scikit-learn.org. See: https://github.com/scikit-learn/scikit-learn/issues/21755 */display: inline-block !important;position: relative;}#sk-container-id-1 div.sk-text-repr-fallback {display: none;}</style><div id=\"sk-container-id-1\" class=\"sk-top-container\"><div class=\"sk-text-repr-fallback\"><pre>RandomForestClassifier(min_samples_split=100, n_estimators=200, random_state=1)</pre><b>In a Jupyter environment, please rerun this cell to show the HTML representation or trust the notebook. <br />On GitHub, the HTML representation is unable to render, please try loading this page with nbviewer.org.</b></div><div class=\"sk-container\" hidden><div class=\"sk-item\"><div class=\"sk-estimator sk-toggleable\"><input class=\"sk-toggleable__control sk-hidden--visually\" id=\"sk-estimator-id-1\" type=\"checkbox\" checked><label for=\"sk-estimator-id-1\" class=\"sk-toggleable__label sk-toggleable__label-arrow\">RandomForestClassifier</label><div class=\"sk-toggleable__content\"><pre>RandomForestClassifier(min_samples_split=100, n_estimators=200, random_state=1)</pre></div></div></div></div></div>"
      ],
      "text/plain": [
       "RandomForestClassifier(min_samples_split=100, n_estimators=200, random_state=1)"
      ]
     },
     "execution_count": 12,
     "metadata": {},
     "output_type": "execute_result"
    }
   ],
   "source": [
    "# Randomzation as 1 and split for 100 to avoid overfit, start with small # of estimators\n",
    "model = RandomForestClassifier(n_estimators = 200, min_samples_split = 100, random_state = 1)\n",
    "\n",
    "# We can't use cross validation. Why? Time series nature of data (train works well but real world would be horrible)\n",
    "train = sp500.iloc[:-100]\n",
    "test = sp500.iloc[-100:]\n",
    "\n",
    "# We aren't going to use Tomorrow or Target since if we use that will cause overfit since it's already know the results\n",
    "predictors = [\"Close\", \"Volume\", \"Open\", \"High\", \"Low\"]\n",
    "\n",
    "model.fit(train[predictors], train[\"Target\"])"
   ]
  },
  {
   "cell_type": "code",
   "execution_count": 13,
   "id": "9a0c90cc",
   "metadata": {},
   "outputs": [],
   "source": [
    "# Verify the precision. How precise that we predict goes up actually stock price go up.\n",
    "from sklearn.metrics import precision_score\n",
    "\n",
    "preds = model.predict(test[predictors]) #array"
   ]
  },
  {
   "cell_type": "code",
   "execution_count": 14,
   "id": "2d6da420",
   "metadata": {},
   "outputs": [
    {
     "data": {
      "text/plain": [
       "0.7"
      ]
     },
     "execution_count": 14,
     "metadata": {},
     "output_type": "execute_result"
    }
   ],
   "source": [
    "preds = pd.Series(preds, index = test.index)\n",
    "\n",
    "precision_score(test[\"Target\"],preds)"
   ]
  },
  {
   "cell_type": "markdown",
   "id": "52237ca6",
   "metadata": {},
   "source": [
    "We got precision as 70% which is good but we could make it better"
   ]
  },
  {
   "cell_type": "code",
   "execution_count": 15,
   "id": "b8cee9aa",
   "metadata": {},
   "outputs": [
    {
     "data": {
      "text/plain": [
       "<Axes: xlabel='Date'>"
      ]
     },
     "execution_count": 15,
     "metadata": {},
     "output_type": "execute_result"
    },
    {
     "data": {
      "image/png": "[encoded data removed]",
      "text/plain": [
       "<Figure size 640x480 with 1 Axes>"
      ]
     },
     "metadata": {},
     "output_type": "display_data"
    }
   ],
   "source": [
    "# Plot prediction\n",
    "combined = pd.concat([test[\"Target\"], preds], axis = 1) #axis = 1 so each test output will be as a column\n",
    "\n",
    "combined.plot()"
   ]
  },
  {
   "cell_type": "markdown",
   "id": "d287af2d",
   "metadata": {},
   "source": [
    "### Backtesting"
   ]
  },
  {
   "cell_type": "code",
   "execution_count": 16,
   "id": "9caa9a58",
   "metadata": {},
   "outputs": [],
   "source": [
    "# Similar as above but instead using train predictor as well.\n",
    "def predict(train, test, predictors, model):\n",
    "    model.fit(train[predictors], train[\"Target\"])\n",
    "    preds = model.predict(test[predictors])\n",
    "    preds = pd.Series(preds, index=test.index, name=\"Predictions\") #Named the series as Predictions\n",
    "    combined = pd.concat([test[\"Target\"], preds], axis = 1)\n",
    "    return combined"
   ]
  },
  {
   "cell_type": "code",
   "execution_count": 17,
   "id": "3c2b5e2e",
   "metadata": {},
   "outputs": [],
   "source": [
    "# Training\n",
    "\n",
    "#Training for 10 years where each business day is 250 days per year. 25000 days for 10 years\n",
    "def backtest(data, model, predictors, start = 2500, step = 250):\n",
    "    all_predictions = []\n",
    "    \n",
    "    for i in range(start, data.shape[0], step): #data.shape[0] -> # of rows\n",
    "        train = data.iloc[0:i].copy()\n",
    "        test = data.iloc[i:(i+step)].copy()\n",
    "        predictions = predict(train, test, predictors, model)\n",
    "        all_predictions.append(predictions)\n",
    "        \n",
    "    return pd.concat(all_predictions)\n"
   ]
  },
  {
   "cell_type": "code",
   "execution_count": 18,
   "id": "60dfd5db",
   "metadata": {},
   "outputs": [
    {
     "data": {
      "text/plain": [
       "Predictions\n",
       "0    3628\n",
       "1    2689\n",
       "Name: count, dtype: int64"
      ]
     },
     "execution_count": 18,
     "metadata": {},
     "output_type": "execute_result"
    }
   ],
   "source": [
    "#Call Back test\n",
    "predictions = backtest(sp500, model, predictors)\n",
    "\n",
    "predictions[\"Predictions\"].value_counts()"
   ]
  },
  {
   "cell_type": "code",
   "execution_count": 19,
   "id": "4e5922be",
   "metadata": {},
   "outputs": [
    {
     "data": {
      "text/plain": [
       "0.5273335812569728"
      ]
     },
     "execution_count": 19,
     "metadata": {},
     "output_type": "execute_result"
    }
   ],
   "source": [
    "precision_score(predictions[\"Target\"], predictions[\"Predictions\"])"
   ]
  },
  {
   "cell_type": "markdown",
   "id": "3a305558",
   "metadata": {},
   "source": [
    "### Benchmark"
   ]
  },
  {
   "cell_type": "code",
   "execution_count": 20,
   "id": "562c6315",
   "metadata": {},
   "outputs": [
    {
     "data": {
      "text/plain": [
       "Target\n",
       "1    0.535856\n",
       "0    0.464144\n",
       "Name: count, dtype: float64"
      ]
     },
     "execution_count": 20,
     "metadata": {},
     "output_type": "execute_result"
    }
   ],
   "source": [
    "predictions[\"Target\"].value_counts() / predictions.shape[0]"
   ]
  },
  {
   "cell_type": "markdown",
   "id": "dbe2f59b",
   "metadata": {},
   "source": [
    "Based on the Benchmark, 52.8% precision make it little worse than natural percentage of the days that stockmarket goes up. "
   ]
  },
  {
   "cell_type": "markdown",
   "id": "32eed9f3",
   "metadata": {},
   "source": [
    "### Adding Additional Predictors\n",
    "\n",
    "By adding more predictors check that whether the accuracy goes up or not."
   ]
  },
  {
   "cell_type": "code",
   "execution_count": 21,
   "id": "9604a331",
   "metadata": {},
   "outputs": [],
   "source": [
    "horizons = [2, 5, 60, 250, 1000] #last 2 days, 5 days, 3 months, etc. \n",
    "\n",
    "#By checking for each span ratio, how long it goes up in that spans to help better prediction (hypothesis). \n",
    "new_predictors = []\n",
    "\n",
    "for horizon in horizons:\n",
    "    rolling_avg = sp500.rolling(horizon).mean() # rolling() provide window (days span) calculation\n",
    "    \n",
    "    ratio_column = f\"Close_Ratio_{horizon}\" # create column name for each span\n",
    "    sp500[ratio_column] = sp500[\"Close\"] / rolling_avg[\"Close\"]\n",
    "\n",
    "    trend_column = f\"Trend_{horizon}\"\n",
    "    sp500[trend_column] = sp500.shift(1).rolling(horizon).sum()[\"Target\"] # It will calculate the past days of the Target number so if 0 0 0 1 1 then would be for last 5 days there are 2 days that goes up\n",
    "    \n",
    "    new_predictors += [ratio_column, trend_column]"
   ]
  },
  {
   "cell_type": "code",
   "execution_count": 22,
   "id": "feaa8389",
   "metadata": {},
   "outputs": [
    {
     "data": {
      "text/html": [
       "<div>\n",
       "<style scoped>\n",
       "    .dataframe tbody tr th:only-of-type {\n",
       "        vertical-align: middle;\n",
       "    }\n",
       "\n",
       "    .dataframe tbody tr th {\n",
       "        vertical-align: top;\n",
       "    }\n",
       "\n",
       "    .dataframe thead th {\n",
       "        text-align: right;\n",
       "    }\n",
       "</style>\n",
       "<table border=\"1\" class=\"dataframe\">\n",
       "  <thead>\n",
       "    <tr style=\"text-align: right;\">\n",
       "      <th></th>\n",
       "      <th>Open</th>\n",
       "      <th>High</th>\n",
       "      <th>Low</th>\n",
       "      <th>Close</th>\n",
       "      <th>Volume</th>\n",
       "      <th>Tomorrow</th>\n",
       "      <th>Target</th>\n",
       "      <th>Close_Ratio_2</th>\n",
       "      <th>Trend_2</th>\n",
       "      <th>Close_Ratio_5</th>\n",
       "      <th>Trend_5</th>\n",
       "      <th>Close_Ratio_60</th>\n",
       "      <th>Trend_60</th>\n",
       "      <th>Close_Ratio_250</th>\n",
       "      <th>Trend_250</th>\n",
       "      <th>Close_Ratio_1000</th>\n",
       "      <th>Trend_1000</th>\n",
       "    </tr>\n",
       "    <tr>\n",
       "      <th>Date</th>\n",
       "      <th></th>\n",
       "      <th></th>\n",
       "      <th></th>\n",
       "      <th></th>\n",
       "      <th></th>\n",
       "      <th></th>\n",
       "      <th></th>\n",
       "      <th></th>\n",
       "      <th></th>\n",
       "      <th></th>\n",
       "      <th></th>\n",
       "      <th></th>\n",
       "      <th></th>\n",
       "      <th></th>\n",
       "      <th></th>\n",
       "      <th></th>\n",
       "      <th></th>\n",
       "    </tr>\n",
       "  </thead>\n",
       "  <tbody>\n",
       "    <tr>\n",
       "      <th>1990-01-02 00:00:00-05:00</th>\n",
       "      <td>353.399994</td>\n",
       "      <td>359.690002</td>\n",
       "      <td>351.980011</td>\n",
       "      <td>359.690002</td>\n",
       "      <td>162070000</td>\n",
       "      <td>358.760010</td>\n",
       "      <td>0</td>\n",
       "      <td>NaN</td>\n",
       "      <td>NaN</td>\n",
       "      <td>NaN</td>\n",
       "      <td>NaN</td>\n",
       "      <td>NaN</td>\n",
       "      <td>NaN</td>\n",
       "      <td>NaN</td>\n",
       "      <td>NaN</td>\n",
       "      <td>NaN</td>\n",
       "      <td>NaN</td>\n",
       "    </tr>\n",
       "    <tr>\n",
       "      <th>1990-01-03 00:00:00-05:00</th>\n",
       "      <td>359.690002</td>\n",
       "      <td>360.589996</td>\n",
       "      <td>357.890015</td>\n",
       "      <td>358.760010</td>\n",
       "      <td>192330000</td>\n",
       "      <td>355.670013</td>\n",
       "      <td>0</td>\n",
       "      <td>0.998706</td>\n",
       "      <td>NaN</td>\n",
       "      <td>NaN</td>\n",
       "      <td>NaN</td>\n",
       "      <td>NaN</td>\n",
       "      <td>NaN</td>\n",
       "      <td>NaN</td>\n",
       "      <td>NaN</td>\n",
       "      <td>NaN</td>\n",
       "      <td>NaN</td>\n",
       "    </tr>\n",
       "    <tr>\n",
       "      <th>1990-01-04 00:00:00-05:00</th>\n",
       "      <td>358.760010</td>\n",
       "      <td>358.760010</td>\n",
       "      <td>352.890015</td>\n",
       "      <td>355.670013</td>\n",
       "      <td>177000000</td>\n",
       "      <td>352.200012</td>\n",
       "      <td>0</td>\n",
       "      <td>0.995675</td>\n",
       "      <td>0.0</td>\n",
       "      <td>NaN</td>\n",
       "      <td>NaN</td>\n",
       "      <td>NaN</td>\n",
       "      <td>NaN</td>\n",
       "      <td>NaN</td>\n",
       "      <td>NaN</td>\n",
       "      <td>NaN</td>\n",
       "      <td>NaN</td>\n",
       "    </tr>\n",
       "    <tr>\n",
       "      <th>1990-01-05 00:00:00-05:00</th>\n",
       "      <td>355.670013</td>\n",
       "      <td>355.670013</td>\n",
       "      <td>351.350006</td>\n",
       "      <td>352.200012</td>\n",
       "      <td>158530000</td>\n",
       "      <td>353.790009</td>\n",
       "      <td>1</td>\n",
       "      <td>0.995098</td>\n",
       "      <td>0.0</td>\n",
       "      <td>NaN</td>\n",
       "      <td>NaN</td>\n",
       "      <td>NaN</td>\n",
       "      <td>NaN</td>\n",
       "      <td>NaN</td>\n",
       "      <td>NaN</td>\n",
       "      <td>NaN</td>\n",
       "      <td>NaN</td>\n",
       "    </tr>\n",
       "    <tr>\n",
       "      <th>1990-01-08 00:00:00-05:00</th>\n",
       "      <td>352.200012</td>\n",
       "      <td>354.239990</td>\n",
       "      <td>350.540009</td>\n",
       "      <td>353.790009</td>\n",
       "      <td>140110000</td>\n",
       "      <td>349.619995</td>\n",
       "      <td>0</td>\n",
       "      <td>1.002252</td>\n",
       "      <td>1.0</td>\n",
       "      <td>0.993731</td>\n",
       "      <td>NaN</td>\n",
       "      <td>NaN</td>\n",
       "      <td>NaN</td>\n",
       "      <td>NaN</td>\n",
       "      <td>NaN</td>\n",
       "      <td>NaN</td>\n",
       "      <td>NaN</td>\n",
       "    </tr>\n",
       "    <tr>\n",
       "      <th>...</th>\n",
       "      <td>...</td>\n",
       "      <td>...</td>\n",
       "      <td>...</td>\n",
       "      <td>...</td>\n",
       "      <td>...</td>\n",
       "      <td>...</td>\n",
       "      <td>...</td>\n",
       "      <td>...</td>\n",
       "      <td>...</td>\n",
       "      <td>...</td>\n",
       "      <td>...</td>\n",
       "      <td>...</td>\n",
       "      <td>...</td>\n",
       "      <td>...</td>\n",
       "      <td>...</td>\n",
       "      <td>...</td>\n",
       "      <td>...</td>\n",
       "    </tr>\n",
       "    <tr>\n",
       "      <th>2024-12-24 00:00:00-05:00</th>\n",
       "      <td>5984.629883</td>\n",
       "      <td>6040.100098</td>\n",
       "      <td>5981.439941</td>\n",
       "      <td>6040.040039</td>\n",
       "      <td>1757720000</td>\n",
       "      <td>6037.589844</td>\n",
       "      <td>0</td>\n",
       "      <td>1.005491</td>\n",
       "      <td>2.0</td>\n",
       "      <td>1.017383</td>\n",
       "      <td>3.0</td>\n",
       "      <td>1.023002</td>\n",
       "      <td>35.0</td>\n",
       "      <td>1.115492</td>\n",
       "      <td>144.0</td>\n",
       "      <td>1.337188</td>\n",
       "      <td>531.0</td>\n",
       "    </tr>\n",
       "    <tr>\n",
       "      <th>2024-12-26 00:00:00-05:00</th>\n",
       "      <td>6024.970215</td>\n",
       "      <td>6049.750000</td>\n",
       "      <td>6007.370117</td>\n",
       "      <td>6037.589844</td>\n",
       "      <td>2904530000</td>\n",
       "      <td>5970.839844</td>\n",
       "      <td>0</td>\n",
       "      <td>0.999797</td>\n",
       "      <td>1.0</td>\n",
       "      <td>1.011334</td>\n",
       "      <td>3.0</td>\n",
       "      <td>1.021639</td>\n",
       "      <td>35.0</td>\n",
       "      <td>1.114008</td>\n",
       "      <td>143.0</td>\n",
       "      <td>1.335962</td>\n",
       "      <td>530.0</td>\n",
       "    </tr>\n",
       "    <tr>\n",
       "      <th>2024-12-27 00:00:00-05:00</th>\n",
       "      <td>6006.169922</td>\n",
       "      <td>6006.169922</td>\n",
       "      <td>5932.950195</td>\n",
       "      <td>5970.839844</td>\n",
       "      <td>3159610000</td>\n",
       "      <td>5906.939941</td>\n",
       "      <td>0</td>\n",
       "      <td>0.994441</td>\n",
       "      <td>0.0</td>\n",
       "      <td>0.996689</td>\n",
       "      <td>3.0</td>\n",
       "      <td>1.009600</td>\n",
       "      <td>34.0</td>\n",
       "      <td>1.100716</td>\n",
       "      <td>143.0</td>\n",
       "      <td>1.320543</td>\n",
       "      <td>529.0</td>\n",
       "    </tr>\n",
       "    <tr>\n",
       "      <th>2024-12-30 00:00:00-05:00</th>\n",
       "      <td>5920.669922</td>\n",
       "      <td>5940.790039</td>\n",
       "      <td>5869.160156</td>\n",
       "      <td>5906.939941</td>\n",
       "      <td>3433250000</td>\n",
       "      <td>5881.629883</td>\n",
       "      <td>0</td>\n",
       "      <td>0.994620</td>\n",
       "      <td>0.0</td>\n",
       "      <td>0.986810</td>\n",
       "      <td>2.0</td>\n",
       "      <td>0.998213</td>\n",
       "      <td>34.0</td>\n",
       "      <td>1.088002</td>\n",
       "      <td>143.0</td>\n",
       "      <td>1.305803</td>\n",
       "      <td>528.0</td>\n",
       "    </tr>\n",
       "    <tr>\n",
       "      <th>2024-12-31 00:00:00-05:00</th>\n",
       "      <td>5919.740234</td>\n",
       "      <td>5929.740234</td>\n",
       "      <td>5868.859863</td>\n",
       "      <td>5881.629883</td>\n",
       "      <td>3128350000</td>\n",
       "      <td>NaN</td>\n",
       "      <td>0</td>\n",
       "      <td>0.997853</td>\n",
       "      <td>0.0</td>\n",
       "      <td>0.985626</td>\n",
       "      <td>1.0</td>\n",
       "      <td>0.993570</td>\n",
       "      <td>33.0</td>\n",
       "      <td>1.082402</td>\n",
       "      <td>143.0</td>\n",
       "      <td>1.299617</td>\n",
       "      <td>527.0</td>\n",
       "    </tr>\n",
       "  </tbody>\n",
       "</table>\n",
       "<p>8817 rows × 17 columns</p>\n",
       "</div>"
      ],
      "text/plain": [
       "                                  Open         High          Low        Close  \\\n",
       "Date                                                                            \n",
       "1990-01-02 00:00:00-05:00   353.399994   359.690002   351.980011   359.690002   \n",
       "1990-01-03 00:00:00-05:00   359.690002   360.589996   357.890015   358.760010   \n",
       "1990-01-04 00:00:00-05:00   358.760010   358.760010   352.890015   355.670013   \n",
       "1990-01-05 00:00:00-05:00   355.670013   355.670013   351.350006   352.200012   \n",
       "1990-01-08 00:00:00-05:00   352.200012   354.239990   350.540009   353.790009   \n",
       "...                                ...          ...          ...          ...   \n",
       "2024-12-24 00:00:00-05:00  5984.629883  6040.100098  5981.439941  6040.040039   \n",
       "2024-12-26 00:00:00-05:00  6024.970215  6049.750000  6007.370117  6037.589844   \n",
       "2024-12-27 00:00:00-05:00  6006.169922  6006.169922  5932.950195  5970.839844   \n",
       "2024-12-30 00:00:00-05:00  5920.669922  5940.790039  5869.160156  5906.939941   \n",
       "2024-12-31 00:00:00-05:00  5919.740234  5929.740234  5868.859863  5881.629883   \n",
       "\n",
       "                               Volume     Tomorrow  Target  Close_Ratio_2  \\\n",
       "Date                                                                        \n",
       "1990-01-02 00:00:00-05:00   162070000   358.760010       0            NaN   \n",
       "1990-01-03 00:00:00-05:00   192330000   355.670013       0       0.998706   \n",
       "1990-01-04 00:00:00-05:00   177000000   352.200012       0       0.995675   \n",
       "1990-01-05 00:00:00-05:00   158530000   353.790009       1       0.995098   \n",
       "1990-01-08 00:00:00-05:00   140110000   349.619995       0       1.002252   \n",
       "...                               ...          ...     ...            ...   \n",
       "2024-12-24 00:00:00-05:00  1757720000  6037.589844       0       1.005491   \n",
       "2024-12-26 00:00:00-05:00  2904530000  5970.839844       0       0.999797   \n",
       "2024-12-27 00:00:00-05:00  3159610000  5906.939941       0       0.994441   \n",
       "2024-12-30 00:00:00-05:00  3433250000  5881.629883       0       0.994620   \n",
       "2024-12-31 00:00:00-05:00  3128350000          NaN       0       0.997853   \n",
       "\n",
       "                           Trend_2  Close_Ratio_5  Trend_5  Close_Ratio_60  \\\n",
       "Date                                                                         \n",
       "1990-01-02 00:00:00-05:00      NaN            NaN      NaN             NaN   \n",
       "1990-01-03 00:00:00-05:00      NaN            NaN      NaN             NaN   \n",
       "1990-01-04 00:00:00-05:00      0.0            NaN      NaN             NaN   \n",
       "1990-01-05 00:00:00-05:00      0.0            NaN      NaN             NaN   \n",
       "1990-01-08 00:00:00-05:00      1.0       0.993731      NaN             NaN   \n",
       "...                            ...            ...      ...             ...   \n",
       "2024-12-24 00:00:00-05:00      2.0       1.017383      3.0        1.023002   \n",
       "2024-12-26 00:00:00-05:00      1.0       1.011334      3.0        1.021639   \n",
       "2024-12-27 00:00:00-05:00      0.0       0.996689      3.0        1.009600   \n",
       "2024-12-30 00:00:00-05:00      0.0       0.986810      2.0        0.998213   \n",
       "2024-12-31 00:00:00-05:00      0.0       0.985626      1.0        0.993570   \n",
       "\n",
       "                           Trend_60  Close_Ratio_250  Trend_250  \\\n",
       "Date                                                              \n",
       "1990-01-02 00:00:00-05:00       NaN              NaN        NaN   \n",
       "1990-01-03 00:00:00-05:00       NaN              NaN        NaN   \n",
       "1990-01-04 00:00:00-05:00       NaN              NaN        NaN   \n",
       "1990-01-05 00:00:00-05:00       NaN              NaN        NaN   \n",
       "1990-01-08 00:00:00-05:00       NaN              NaN        NaN   \n",
       "...                             ...              ...        ...   \n",
       "2024-12-24 00:00:00-05:00      35.0         1.115492      144.0   \n",
       "2024-12-26 00:00:00-05:00      35.0         1.114008      143.0   \n",
       "2024-12-27 00:00:00-05:00      34.0         1.100716      143.0   \n",
       "2024-12-30 00:00:00-05:00      34.0         1.088002      143.0   \n",
       "2024-12-31 00:00:00-05:00      33.0         1.082402      143.0   \n",
       "\n",
       "                           Close_Ratio_1000  Trend_1000  \n",
       "Date                                                     \n",
       "1990-01-02 00:00:00-05:00               NaN         NaN  \n",
       "1990-01-03 00:00:00-05:00               NaN         NaN  \n",
       "1990-01-04 00:00:00-05:00               NaN         NaN  \n",
       "1990-01-05 00:00:00-05:00               NaN         NaN  \n",
       "1990-01-08 00:00:00-05:00               NaN         NaN  \n",
       "...                                     ...         ...  \n",
       "2024-12-24 00:00:00-05:00          1.337188       531.0  \n",
       "2024-12-26 00:00:00-05:00          1.335962       530.0  \n",
       "2024-12-27 00:00:00-05:00          1.320543       529.0  \n",
       "2024-12-30 00:00:00-05:00          1.305803       528.0  \n",
       "2024-12-31 00:00:00-05:00          1.299617       527.0  \n",
       "\n",
       "[8817 rows x 17 columns]"
      ]
     },
     "execution_count": 22,
     "metadata": {},
     "output_type": "execute_result"
    }
   ],
   "source": [
    "sp500 # There would be lot of NaN since if they can't find the enough days prior to the data, it will automatically become NaN"
   ]
  },
  {
   "cell_type": "code",
   "execution_count": 23,
   "id": "f2c14acd",
   "metadata": {},
   "outputs": [],
   "source": [
    "# Fixing the NaN issues\n",
    "sp500 = sp500.dropna()"
   ]
  },
  {
   "cell_type": "markdown",
   "id": "25810a8e",
   "metadata": {},
   "source": [
    "### Improving Models"
   ]
  },
  {
   "cell_type": "code",
   "execution_count": 24,
   "id": "0491d2b8",
   "metadata": {},
   "outputs": [],
   "source": [
    "model =RandomForestClassifier(n_estimators=200, min_samples_split=50, random_state=1)"
   ]
  },
  {
   "cell_type": "code",
   "execution_count": 25,
   "id": "124ef861",
   "metadata": {},
   "outputs": [],
   "source": [
    "# Similar as above but instead find the probability of the prediction\n",
    "def predict(train, test, predictors, model):\n",
    "    model.fit(train[predictors], train[\"Target\"])\n",
    "    preds = model.predict_proba(test[predictors])[:,1] #predict_proba. Probability the goes up\n",
    "    preds[preds >= 0.6] = 1\n",
    "    preds[preds < 0.6] = 0\n",
    "    # Increase the chance that goes up\n",
    "    \n",
    "    preds = pd.Series(preds, index=test.index, name=\"Predictions\") #Named the series as Predictions\n",
    "    combined = pd.concat([test[\"Target\"], preds], axis = 1)\n",
    "    return combined"
   ]
  },
  {
   "cell_type": "code",
   "execution_count": 26,
   "id": "6686617f",
   "metadata": {},
   "outputs": [],
   "source": [
    "# Backtest again\n",
    "predictions = backtest(sp500, model, new_predictors)"
   ]
  },
  {
   "cell_type": "code",
   "execution_count": 27,
   "id": "147033ee",
   "metadata": {},
   "outputs": [
    {
     "data": {
      "text/plain": [
       "Predictions\n",
       "0.0    4463\n",
       "1.0     853\n",
       "Name: count, dtype: int64"
      ]
     },
     "execution_count": 27,
     "metadata": {},
     "output_type": "execute_result"
    }
   ],
   "source": [
    "predictions[\"Predictions\"].value_counts()\n",
    "#Why there's lot of 0's? \n",
    "#A: since we change the threshold to make it more confidence"
   ]
  },
  {
   "cell_type": "code",
   "execution_count": 29,
   "id": "9b168a1e",
   "metadata": {},
   "outputs": [
    {
     "data": {
      "text/plain": [
       "0.5756154747948418"
      ]
     },
     "execution_count": 29,
     "metadata": {},
     "output_type": "execute_result"
    }
   ],
   "source": [
    "precision_score(predictions[\"Target\"], predictions[\"Predictions\"])"
   ]
  },
  {
   "cell_type": "code",
   "execution_count": 46,
   "id": "e5b9de9c",
   "metadata": {},
   "outputs": [],
   "source": [
    "from sklearn.metrics import mean_absolute_error, mean_squared_error, f1_score\n",
    "\n",
    "mae_test = mean_absolute_error(test[\"Target\"],preds)\n",
    "f1_test = f1_score(test[\"Target\"], preds)\n",
    "\n",
    "mae_new = mean_absolute_error(predictions[\"Target\"], predictions[\"Predictions\"])\n",
    "f1_new = f1_score(predictions[\"Target\"], predictions[\"Predictions\"])"
   ]
  },
  {
   "cell_type": "code",
   "execution_count": 50,
   "id": "640a1c97",
   "metadata": {},
   "outputs": [
    {
     "name": "stdout",
     "output_type": "stream",
     "text": [
      "Mean Absolute Error: 0.45, F1 Score: 0.48275862068965514\n"
     ]
    }
   ],
   "source": [
    "print(f\"Mean Absolute Error: {mae_test}, F1 Score: {f1_test}\")"
   ]
  },
  {
   "cell_type": "code",
   "execution_count": 49,
   "id": "af6a0dce",
   "metadata": {},
   "outputs": [
    {
     "name": "stdout",
     "output_type": "stream",
     "text": [
      "Mean Absolute Error: 0.5212565838976674, F1 Score: 0.2616573407940314\n"
     ]
    }
   ],
   "source": [
    "print(f\"Mean Absolute Error: {mae_new}, F1 Score: {f1_new}\")"
   ]
  },
  {
   "cell_type": "markdown",
   "id": "dde464b5",
   "metadata": {},
   "source": [
    "## Conclusion\n",
    "\n",
    "Adding more predictors does not always lead to better performance. In this case, the added predictors likely introduced noise or complexity, outweighing any potential benefits."
   ]
  },
  {
   "cell_type": "code",
   "execution_count": null,
   "id": "a68e9014",
   "metadata": {},
   "outputs": [],
   "source": []
  }
 ],
 "metadata": {
  "kernelspec": {
   "display_name": "Python 3 (ipykernel)",
   "language": "python",
   "name": "python3"
  },
  "language_info": {
   "codemirror_mode": {
    "name": "ipython",
    "version": 3
   },
   "file_extension": ".py",
   "mimetype": "text/x-python",
   "name": "python",
   "nbconvert_exporter": "python",
   "pygments_lexer": "ipython3",
   "version": "3.11.6"
  }
 },
 "nbformat": 4,
 "nbformat_minor": 5
}
